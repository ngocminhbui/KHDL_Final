{
 "cells": [
  {
   "cell_type": "code",
   "execution_count": 6,
   "metadata": {
    "collapsed": true
   },
   "outputs": [],
   "source": [
    "%matplotlib inline \n",
    "import seaborn as sns\n",
    "import matplotlib.pyplot as plt\n",
    "import pandas as pd\n",
    "import time\n",
    "import cPickle as pickle\n",
    "import io\n",
    "from sklearn.linear_model import LinearRegression\n"
   ]
  },
  {
   "cell_type": "code",
   "execution_count": 9,
   "metadata": {},
   "outputs": [
    {
     "data": {
      "text/html": [
       "<div>\n",
       "<table border=\"1\" class=\"dataframe\">\n",
       "  <thead>\n",
       "    <tr style=\"text-align: right;\">\n",
       "      <th></th>\n",
       "      <th>budget</th>\n",
       "      <th>cast</th>\n",
       "      <th>director</th>\n",
       "      <th>genres</th>\n",
       "      <th>gross</th>\n",
       "      <th>id</th>\n",
       "      <th>imdb_id</th>\n",
       "      <th>imdb_rating</th>\n",
       "      <th>mpaa</th>\n",
       "      <th>name</th>\n",
       "      <th>opening_gross</th>\n",
       "      <th>opening_theathers</th>\n",
       "      <th>runtime</th>\n",
       "      <th>year</th>\n",
       "      <th>director_boxoffice</th>\n",
       "      <th>cast_boxoffice</th>\n",
       "      <th>genres_boxoffice</th>\n",
       "    </tr>\n",
       "  </thead>\n",
       "  <tbody>\n",
       "    <tr>\n",
       "      <th>189</th>\n",
       "      <td>65000000</td>\n",
       "      <td>[0000620, 0004695, 0000982, 0330687, 0206257, ...</td>\n",
       "      <td>[0588340, 0001675]</td>\n",
       "      <td>[Action, Crime, Thriller]</td>\n",
       "      <td>13757804</td>\n",
       "      <td>189</td>\n",
       "      <td>tt0458481</td>\n",
       "      <td>6.5</td>\n",
       "      <td>R</td>\n",
       "      <td>Sin City: A Dame to Kill For</td>\n",
       "      <td>6317683</td>\n",
       "      <td>2894</td>\n",
       "      <td>102</td>\n",
       "      <td>2014</td>\n",
       "      <td>16929594</td>\n",
       "      <td>30220545</td>\n",
       "      <td>36087236</td>\n",
       "    </tr>\n",
       "    <tr>\n",
       "      <th>1865</th>\n",
       "      <td>380000000</td>\n",
       "      <td>[0000136, 0004851, 0001691, 0574534, 0573618, ...</td>\n",
       "      <td>[0551128]</td>\n",
       "      <td>[Action, Adventure, Fantasy]</td>\n",
       "      <td>241071802</td>\n",
       "      <td>1865</td>\n",
       "      <td>tt1298650</td>\n",
       "      <td>6.7</td>\n",
       "      <td>PG-13</td>\n",
       "      <td>Pirates of the Caribbean: On Stranger Tides</td>\n",
       "      <td>90151958</td>\n",
       "      <td>4155</td>\n",
       "      <td>136</td>\n",
       "      <td>2011</td>\n",
       "      <td>184537087</td>\n",
       "      <td>174422411</td>\n",
       "      <td>70050167</td>\n",
       "    </tr>\n",
       "    <tr>\n",
       "      <th>1930</th>\n",
       "      <td>215000000</td>\n",
       "      <td>[1940449, 1297015, 0406975, 0001459, 0000640, ...</td>\n",
       "      <td>[1989536]</td>\n",
       "      <td>[Action, Adventure]</td>\n",
       "      <td>262030663</td>\n",
       "      <td>1930</td>\n",
       "      <td>tt0948470</td>\n",
       "      <td>7</td>\n",
       "      <td>PG-13</td>\n",
       "      <td>The Amazing Spider-Man</td>\n",
       "      <td>62004688</td>\n",
       "      <td>4318</td>\n",
       "      <td>136</td>\n",
       "      <td>2012</td>\n",
       "      <td>232442298</td>\n",
       "      <td>193142424</td>\n",
       "      <td>66021895</td>\n",
       "    </tr>\n",
       "    <tr>\n",
       "      <th>4258</th>\n",
       "      <td>20000000</td>\n",
       "      <td>[0864308, 0005350, 3856188, 4795991, 5777210, ...</td>\n",
       "      <td>[0002700, 0001878]</td>\n",
       "      <td>[Comedy]</td>\n",
       "      <td>32015787</td>\n",
       "      <td>4258</td>\n",
       "      <td>tt0795461</td>\n",
       "      <td>3.5</td>\n",
       "      <td>PG-13</td>\n",
       "      <td>Scary Movie 5</td>\n",
       "      <td>14157367</td>\n",
       "      <td>3402</td>\n",
       "      <td>86</td>\n",
       "      <td>2013</td>\n",
       "      <td>41643139</td>\n",
       "      <td>50143497</td>\n",
       "      <td>28086601</td>\n",
       "    </tr>\n",
       "    <tr>\n",
       "      <th>7978</th>\n",
       "      <td>150000000</td>\n",
       "      <td>[0581163, 2247629, 1289434, 0001125, 3785649, ...</td>\n",
       "      <td>[0002653]</td>\n",
       "      <td>[Drama, Fantasy, Horror, Thriller]</td>\n",
       "      <td>61979680</td>\n",
       "      <td>7978</td>\n",
       "      <td>tt0780653</td>\n",
       "      <td>5.8</td>\n",
       "      <td>R</td>\n",
       "      <td>The Wolfman</td>\n",
       "      <td>31479235</td>\n",
       "      <td>3222</td>\n",
       "      <td>102</td>\n",
       "      <td>2010</td>\n",
       "      <td>61979680</td>\n",
       "      <td>70730664</td>\n",
       "      <td>36944285</td>\n",
       "    </tr>\n",
       "  </tbody>\n",
       "</table>\n",
       "</div>"
      ],
      "text/plain": [
       "         budget                                               cast  \\\n",
       "189    65000000  [0000620, 0004695, 0000982, 0330687, 0206257, ...   \n",
       "1865  380000000  [0000136, 0004851, 0001691, 0574534, 0573618, ...   \n",
       "1930  215000000  [1940449, 1297015, 0406975, 0001459, 0000640, ...   \n",
       "4258   20000000  [0864308, 0005350, 3856188, 4795991, 5777210, ...   \n",
       "7978  150000000  [0581163, 2247629, 1289434, 0001125, 3785649, ...   \n",
       "\n",
       "                director                              genres      gross    id  \\\n",
       "189   [0588340, 0001675]           [Action, Crime, Thriller]   13757804   189   \n",
       "1865           [0551128]        [Action, Adventure, Fantasy]  241071802  1865   \n",
       "1930           [1989536]                 [Action, Adventure]  262030663  1930   \n",
       "4258  [0002700, 0001878]                            [Comedy]   32015787  4258   \n",
       "7978           [0002653]  [Drama, Fantasy, Horror, Thriller]   61979680  7978   \n",
       "\n",
       "        imdb_id imdb_rating   mpaa  \\\n",
       "189   tt0458481         6.5      R   \n",
       "1865  tt1298650         6.7  PG-13   \n",
       "1930  tt0948470           7  PG-13   \n",
       "4258  tt0795461         3.5  PG-13   \n",
       "7978  tt0780653         5.8      R   \n",
       "\n",
       "                                             name opening_gross  \\\n",
       "189                  Sin City: A Dame to Kill For       6317683   \n",
       "1865  Pirates of the Caribbean: On Stranger Tides      90151958   \n",
       "1930                       The Amazing Spider-Man      62004688   \n",
       "4258                                Scary Movie 5      14157367   \n",
       "7978                                  The Wolfman      31479235   \n",
       "\n",
       "     opening_theathers runtime  year  director_boxoffice  cast_boxoffice  \\\n",
       "189               2894     102  2014            16929594        30220545   \n",
       "1865              4155     136  2011           184537087       174422411   \n",
       "1930              4318     136  2012           232442298       193142424   \n",
       "4258              3402      86  2013            41643139        50143497   \n",
       "7978              3222     102  2010            61979680        70730664   \n",
       "\n",
       "      genres_boxoffice  \n",
       "189           36087236  \n",
       "1865          70050167  \n",
       "1930          66021895  \n",
       "4258          28086601  \n",
       "7978          36944285  "
      ]
     },
     "execution_count": 9,
     "metadata": {},
     "output_type": "execute_result"
    }
   ],
   "source": [
    "MovieTable = pd.read_pickle('MovieDataClean_10_15.pkl')\n",
    "# MovieTable = pd.DataFrame(MovieTable).transpose()\n",
    "MovieTable.head()"
   ]
  },
  {
   "cell_type": "code",
   "execution_count": 10,
   "metadata": {
    "collapsed": true
   },
   "outputs": [],
   "source": [
    "# remove NaN value\n",
    "MovieTable = MovieTable[pd.notnull(MovieTable['imdb_rating'])]\n",
    "MovieTable = MovieTable[pd.notnull(MovieTable['cast'])]\n",
    "MovieTable = MovieTable[pd.notnull(MovieTable['director'])]"
   ]
  },
  {
   "cell_type": "code",
   "execution_count": 62,
   "metadata": {},
   "outputs": [
    {
     "data": {
      "text/html": [
       "<div>\n",
       "<table border=\"1\" class=\"dataframe\">\n",
       "  <thead>\n",
       "    <tr style=\"text-align: right;\">\n",
       "      <th></th>\n",
       "      <th>features</th>\n",
       "      <th>estimatedCoefficients</th>\n",
       "    </tr>\n",
       "  </thead>\n",
       "  <tbody>\n",
       "    <tr>\n",
       "      <th>0</th>\n",
       "      <td>budget</td>\n",
       "      <td>-0.018642</td>\n",
       "    </tr>\n",
       "    <tr>\n",
       "      <th>1</th>\n",
       "      <td>cast_boxoffice</td>\n",
       "      <td>0.637188</td>\n",
       "    </tr>\n",
       "    <tr>\n",
       "      <th>2</th>\n",
       "      <td>director_boxoffice</td>\n",
       "      <td>0.225203</td>\n",
       "    </tr>\n",
       "    <tr>\n",
       "      <th>3</th>\n",
       "      <td>genres_boxoffice</td>\n",
       "      <td>-0.084126</td>\n",
       "    </tr>\n",
       "    <tr>\n",
       "      <th>4</th>\n",
       "      <td>opening_gross</td>\n",
       "      <td>1.100401</td>\n",
       "    </tr>\n",
       "  </tbody>\n",
       "</table>\n",
       "</div>"
      ],
      "text/plain": [
       "             features  estimatedCoefficients\n",
       "0              budget              -0.018642\n",
       "1      cast_boxoffice               0.637188\n",
       "2  director_boxoffice               0.225203\n",
       "3    genres_boxoffice              -0.084126\n",
       "4       opening_gross               1.100401"
      ]
     },
     "execution_count": 62,
     "metadata": {},
     "output_type": "execute_result"
    }
   ],
   "source": [
    "X = MovieTable[['budget','cast_boxoffice', 'director_boxoffice', 'genres_boxoffice', 'opening_gross']]\n",
    "lm = LinearRegression()\n",
    "lm.fit(X, MovieTable.gross)\n",
    "pd.DataFrame(zip(X.columns, lm.coef_), columns = ['features', 'estimatedCoefficients'])"
   ]
  },
  {
   "cell_type": "code",
   "execution_count": 64,
   "metadata": {},
   "outputs": [],
   "source": [
    "MovieTableP = pd.read_pickle('MovieDataClean_16.pkl')\n",
    "X = MovieTableP[['budget','cast_boxoffice', 'director_boxoffice', 'genres_boxoffice','opening_gross']]\n",
    "prediction = lm.predict(X)"
   ]
  },
  {
   "cell_type": "code",
   "execution_count": 66,
   "metadata": {},
   "outputs": [],
   "source": [
    "MovieTableP['predict_gross'] = prediction.astype(int)"
   ]
  },
  {
   "cell_type": "code",
   "execution_count": null,
   "metadata": {},
   "outputs": [],
   "source": [
    "MovieTableP[['predict_gross', 'gross','name']].sort(columns=['gross'], ascending=[0])"
   ]
  },
  {
   "cell_type": "code",
   "execution_count": null,
   "metadata": {},
   "outputs": [],
   "source": [
    "MovieTableP[['predict_gross', 'gross','name']].sort(columns=['predict_gross'], ascending=[0])"
   ]
  },
  {
   "cell_type": "code",
   "execution_count": 67,
   "metadata": {},
   "outputs": [
    {
     "data": {
      "text/plain": [
       "<seaborn.axisgrid.JointGrid at 0x7f592864e950>"
      ]
     },
     "execution_count": 67,
     "metadata": {},
     "output_type": "execute_result"
    },
    {
     "data": {
      "image/png": "[encoded data removed]",
      "text/plain": [
       "<matplotlib.figure.Figure at 0x7f592828d450>"
      ]
     },
     "metadata": {},
     "output_type": "display_data"
    }
   ],
   "source": [
    "grid = sns.JointGrid(MovieTableP.gross, MovieTableP.predict_gross, space=0, size=6, ratio=50)\n",
    "grid.plot_joint(plt.scatter)"
   ]
  },
  {
   "cell_type": "code",
   "execution_count": 68,
   "metadata": {},
   "outputs": [
    {
     "data": {
      "text/plain": [
       "23796571.035714287"
      ]
     },
     "execution_count": 68,
     "metadata": {},
     "output_type": "execute_result"
    }
   ],
   "source": [
    "np.sum(np.abs(MovieTableP.gross - MovieTableP.predict_gross))/float(len(MovieTableP))"
   ]
  },
  {
   "cell_type": "code",
   "execution_count": null,
   "metadata": {
    "collapsed": true
   },
   "outputs": [],
   "source": []
  }
 ],
 "metadata": {
  "kernelspec": {
   "display_name": "Python 2",
   "language": "python",
   "name": "python2"
  },
  "language_info": {
   "codemirror_mode": {
    "name": "ipython",
    "version": 2
   },
   "file_extension": ".py",
   "mimetype": "text/x-python",
   "name": "python",
   "nbconvert_exporter": "python",
   "pygments_lexer": "ipython2",
   "version": "2.7.13"
  },
  "widgets": {
   "state": {},
   "version": "1.1.2"
  }
 },
 "nbformat": 4,
 "nbformat_minor": 2
}
