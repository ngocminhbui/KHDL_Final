{
 "cells": [
  {
   "cell_type": "code",
   "execution_count": 1,
   "metadata": {
    "collapsed": true
   },
   "outputs": [],
   "source": [
    "%matplotlib inline \n",
    "import seaborn as sns\n",
    "import matplotlib.pyplot as plt\n",
    "import requests\n",
    "from bs4 import BeautifulSoup\n",
    "import tmdbsimple as tmdb\n",
    "from imdb import IMDb\n",
    "import numpy as np\n",
    "import pandas as pd\n",
    "import time\n",
    "import cPickle as pickle\n",
    "import io"
   ]
  },
  {
   "cell_type": "code",
   "execution_count": 2,
   "metadata": {
    "collapsed": true
   },
   "outputs": [],
   "source": [
    "tmdb.API_KEY = 'c12463ab60c8ecbcb76acc7f9f177d19'\n",
    "imdb_a = IMDb(accessSystem='http')"
   ]
  },
  {
   "cell_type": "code",
   "execution_count": 3,
   "metadata": {
    "collapsed": true
   },
   "outputs": [],
   "source": [
    "years = xrange(2010,2016)\n",
    "pages = xrange(1,2)\n",
    "year_pagetxt = {}\n",
    "for year in years: \n",
    "    pagestext = {}\n",
    "    for page in pages: \n",
    "        r = requests.get(\"http://www.boxofficemojo.com/yearly/chart/?page=%s&view=releasedate&view2=domestic&yr=%s&p=.htm\"%(page, year))\n",
    "        pagestext[page] = r.text\n",
    "#         time.sleep(1) \n",
    "    year_pagetxt[year] = pagestext"
   ]
  },
  {
   "cell_type": "code",
   "execution_count": 4,
   "metadata": {
    "collapsed": true
   },
   "outputs": [],
   "source": [
    "mojoData = list() \n",
    "mojoatt = ['rank', 'title', 'studio', 'gross', 'gross theaters', 'opening', 'opening theaters', 'open', 'close']\n",
    "for year in years: \n",
    "    for page in pages: \n",
    "        soup = BeautifulSoup(year_pagetxt[year][page], \"html.parser\")\n",
    "        rows = soup.find_all(\"font\", attrs={'size':'2'})\n",
    "        start = 10         \n",
    "        for i in range(start,len(rows)-2, 9):\n",
    "            t = rows[i].get_text()\n",
    "            if unicode('Summary of') in t: \n",
    "                break\n",
    "            movie_item = dict() \n",
    "            movie_item['year'] = year            \n",
    "            for at in range(9):\n",
    "                t = rows[i + at].get_text()\n",
    "                movie_item[mojoatt[at]] = t\n",
    "            mojoData.append(movie_item)"
   ]
  },
  {
   "cell_type": "code",
   "execution_count": 5,
   "metadata": {
    "collapsed": true
   },
   "outputs": [],
   "source": [
    "# remove movie year in title\n",
    "for movie in mojoData:\n",
    "    year = ' (' + str(movie['year']) +')'\n",
    "    if movie['title'][-7:] == year:\n",
    "        movie['title'] = movie['title'][:-7]"
   ]
  },
  {
   "cell_type": "code",
   "execution_count": 6,
   "metadata": {},
   "outputs": [
    {
     "data": {
      "text/plain": [
       "600"
      ]
     },
     "execution_count": 6,
     "metadata": {},
     "output_type": "execute_result"
    }
   ],
   "source": [
    "len(mojoData)"
   ]
  },
  {
   "cell_type": "code",
   "execution_count": 7,
   "metadata": {
    "collapsed": true
   },
   "outputs": [],
   "source": [
    "search = tmdb.Search()"
   ]
  },
  {
   "cell_type": "code",
   "execution_count": 8,
   "metadata": {
    "collapsed": true,
    "scrolled": true
   },
   "outputs": [],
   "source": [
    "ListMovieWY = list()\n",
    "for movie in mojoData:\n",
    "    q = movie['title']\n",
    "    response = search.movie(query=q)    \n",
    "    for s in search.results:\n",
    "        if s['release_date'].split('-')[0] == str(movie['year']):\n",
    "            movie['tmdb_id'] = s['id']\n",
    "            continue\n",
    "    if 'tmdb_id' not in movie:\n",
    "        ListMovieWY.append(movie['title'])"
   ]
  },
  {
   "cell_type": "code",
   "execution_count": 9,
   "metadata": {
    "collapsed": true
   },
   "outputs": [],
   "source": [
    "# remove movie not found in themoviedb.org \n",
    "# wrong release date\n",
    "mojoDatar = [movie for movie in mojoData if 'tmdb_id' in movie]"
   ]
  },
  {
   "cell_type": "code",
   "execution_count": 10,
   "metadata": {},
   "outputs": [
    {
     "data": {
      "text/plain": [
       "581"
      ]
     },
     "execution_count": 10,
     "metadata": {},
     "output_type": "execute_result"
    }
   ],
   "source": [
    "len(mojoDatar)"
   ]
  },
  {
   "cell_type": "code",
   "execution_count": 12,
   "metadata": {},
   "outputs": [
    {
     "name": "stdout",
     "output_type": "stream",
     "text": [
      "1\n",
      "2\n",
      "3\n",
      "4\n",
      "5\n",
      "6\n",
      "7\n",
      "8\n",
      "9\n",
      "10\n",
      "11\n",
      "12\n",
      "13\n",
      "14\n",
      "15\n",
      "16\n",
      "17\n",
      "18\n",
      "19\n",
      "20\n",
      "21\n",
      "22\n",
      "23\n",
      "24\n",
      "25\n",
      "26\n",
      "27\n",
      "28\n",
      "29\n",
      "30\n",
      "31\n",
      "32\n",
      "33\n",
      "34\n",
      "35\n",
      "36\n",
      "37\n"
     ]
    },
    {
     "name": "stderr",
     "output_type": "stream",
     "text": [
      "2017-04-28 12:16:35,582 CRITICAL [imdbpy] /home/yoh/anaconda2/envs/ds_project/lib/python2.7/site-packages/imdb/_exceptions.py:35: IMDbParserError exception raised; args: (u'invalid movieID \"\": invalid literal for int() with base 10: \\'\\'',); kwds: {}\n",
      "Traceback (most recent call last):\n",
      "  File \"/home/yoh/anaconda2/envs/ds_project/lib/python2.7/site-packages/imdb/parser/http/__init__.py\", line 344, in _normalize_movieID\n",
      "    return '%07d' % int(movieID)\n",
      "ValueError: invalid literal for int() with base 10: ''\n"
     ]
    },
    {
     "name": "stdout",
     "output_type": "stream",
     "text": [
      "Red\n",
      "38\n",
      "39\n",
      "40\n",
      "41\n",
      "42\n",
      "43\n",
      "44\n",
      "45\n",
      "46\n",
      "47\n",
      "48\n",
      "49\n",
      "50\n",
      "51\n",
      "52\n",
      "53\n",
      "54\n",
      "55\n",
      "56\n",
      "57\n",
      "58\n",
      "59\n",
      "60\n",
      "61\n",
      "62\n",
      "63\n",
      "64\n",
      "65\n",
      "66\n",
      "67\n",
      "68\n",
      "69\n",
      "70\n",
      "71\n",
      "72\n"
     ]
    },
    {
     "name": "stderr",
     "output_type": "stream",
     "text": [
      "2017-04-28 12:22:13,574 CRITICAL [imdbpy] /home/yoh/anaconda2/envs/ds_project/lib/python2.7/site-packages/imdb/_exceptions.py:35: IMDbParserError exception raised; args: (u'invalid movieID \"\": invalid literal for int() with base 10: \\'\\'',); kwds: {}\n",
      "Traceback (most recent call last):\n",
      "  File \"/home/yoh/anaconda2/envs/ds_project/lib/python2.7/site-packages/imdb/parser/http/__init__.py\", line 344, in _normalize_movieID\n",
      "    return '%07d' % int(movieID)\n",
      "ValueError: invalid literal for int() with base 10: ''\n"
     ]
    },
    {
     "name": "stdout",
     "output_type": "stream",
     "text": [
      "Edge of Darkness\n",
      "73\n",
      "74\n",
      "75\n",
      "76\n",
      "77\n",
      "78\n",
      "79\n",
      "80\n",
      "81\n",
      "82\n",
      "83\n",
      "84\n",
      "85\n",
      "86\n",
      "87\n",
      "88\n",
      "89\n",
      "90\n",
      "91\n",
      "92\n",
      "93\n",
      "94\n",
      "95\n",
      "96\n"
     ]
    },
    {
     "name": "stderr",
     "output_type": "stream",
     "text": [
      "2017-04-28 12:25:37,561 CRITICAL [imdbpy] /home/yoh/anaconda2/envs/ds_project/lib/python2.7/site-packages/imdb/_exceptions.py:35: IMDbParserError exception raised; args: (u'invalid movieID \"\": invalid literal for int() with base 10: \\'\\'',); kwds: {}\n",
      "Traceback (most recent call last):\n",
      "  File \"/home/yoh/anaconda2/envs/ds_project/lib/python2.7/site-packages/imdb/parser/http/__init__.py\", line 344, in _normalize_movieID\n",
      "    return '%07d' % int(movieID)\n",
      "ValueError: invalid literal for int() with base 10: ''\n"
     ]
    },
    {
     "name": "stdout",
     "output_type": "stream",
     "text": [
      "The Switch\n",
      "97\n",
      "98\n",
      "99\n",
      "100\n",
      "101\n",
      "102\n",
      "103\n",
      "104\n",
      "105\n",
      "106\n",
      "107\n"
     ]
    },
    {
     "name": "stderr",
     "output_type": "stream",
     "text": [
      "2017-04-28 12:27:02,160 CRITICAL [imdbpy] /home/yoh/anaconda2/envs/ds_project/lib/python2.7/site-packages/imdb/_exceptions.py:35: IMDbParserError exception raised; args: (u'invalid movieID \"\": invalid literal for int() with base 10: \\'\\'',); kwds: {}\n",
      "Traceback (most recent call last):\n",
      "  File \"/home/yoh/anaconda2/envs/ds_project/lib/python2.7/site-packages/imdb/parser/http/__init__.py\", line 344, in _normalize_movieID\n",
      "    return '%07d' % int(movieID)\n",
      "ValueError: invalid literal for int() with base 10: ''\n"
     ]
    },
    {
     "name": "stdout",
     "output_type": "stream",
     "text": [
      "Thor\n",
      "108\n",
      "109\n",
      "110\n",
      "111\n",
      "112\n",
      "113\n",
      "114\n",
      "115\n",
      "116\n",
      "117\n",
      "118\n"
     ]
    },
    {
     "name": "stderr",
     "output_type": "stream",
     "text": [
      "2017-04-28 12:28:22,729 CRITICAL [imdbpy] /home/yoh/anaconda2/envs/ds_project/lib/python2.7/site-packages/imdb/_exceptions.py:35: IMDbParserError exception raised; args: (u'invalid movieID \"\": invalid literal for int() with base 10: \\'\\'',); kwds: {}\n",
      "Traceback (most recent call last):\n",
      "  File \"/home/yoh/anaconda2/envs/ds_project/lib/python2.7/site-packages/imdb/parser/http/__init__.py\", line 344, in _normalize_movieID\n",
      "    return '%07d' % int(movieID)\n",
      "ValueError: invalid literal for int() with base 10: ''\n"
     ]
    },
    {
     "name": "stdout",
     "output_type": "stream",
     "text": [
      "Super 8\n",
      "119\n",
      "120\n",
      "121\n",
      "122\n",
      "123\n",
      "124\n",
      "125\n",
      "126\n",
      "127\n",
      "128\n",
      "129\n",
      "130\n",
      "131\n",
      "132\n",
      "133\n"
     ]
    },
    {
     "name": "stderr",
     "output_type": "stream",
     "text": [
      "2017-04-28 12:29:59,109 CRITICAL [imdbpy] /home/yoh/anaconda2/envs/ds_project/lib/python2.7/site-packages/imdb/_exceptions.py:35: IMDbParserError exception raised; args: (u'invalid movieID \"\": invalid literal for int() with base 10: \\'\\'',); kwds: {}\n",
      "Traceback (most recent call last):\n",
      "  File \"/home/yoh/anaconda2/envs/ds_project/lib/python2.7/site-packages/imdb/parser/http/__init__.py\", line 344, in _normalize_movieID\n",
      "    return '%07d' % int(movieID)\n",
      "ValueError: invalid literal for int() with base 10: ''\n"
     ]
    },
    {
     "name": "stdout",
     "output_type": "stream",
     "text": [
      "Battle: Los Angeles\n",
      "134\n",
      "135\n",
      "136\n",
      "137\n",
      "138\n",
      "139\n",
      "140\n",
      "141\n",
      "142\n",
      "143\n",
      "144\n",
      "145\n",
      "146\n",
      "147\n",
      "148\n",
      "149\n",
      "150\n",
      "151\n",
      "152\n",
      "153\n",
      "154\n",
      "155\n",
      "156\n",
      "157\n",
      "158\n",
      "159\n",
      "160\n",
      "161\n",
      "162\n",
      "163\n",
      "164\n",
      "165\n",
      "166\n",
      "167\n",
      "168\n",
      "169\n",
      "170\n",
      "171\n",
      "172\n",
      "173\n",
      "174\n",
      "175\n",
      "176\n",
      "177\n",
      "178\n",
      "179\n",
      "180\n",
      "181\n",
      "182\n",
      "183\n",
      "184\n",
      "185\n",
      "186\n",
      "187\n"
     ]
    },
    {
     "name": "stderr",
     "output_type": "stream",
     "text": [
      "2017-04-28 12:37:01,556 CRITICAL [imdbpy] /home/yoh/anaconda2/envs/ds_project/lib/python2.7/site-packages/imdb/_exceptions.py:35: IMDbParserError exception raised; args: (u'invalid movieID \"\": invalid literal for int() with base 10: \\'\\'',); kwds: {}\n",
      "Traceback (most recent call last):\n",
      "  File \"/home/yoh/anaconda2/envs/ds_project/lib/python2.7/site-packages/imdb/parser/http/__init__.py\", line 344, in _normalize_movieID\n",
      "    return '%07d' % int(movieID)\n",
      "ValueError: invalid literal for int() with base 10: ''\n"
     ]
    },
    {
     "name": "stdout",
     "output_type": "stream",
     "text": [
      "Drive\n",
      "188\n"
     ]
    },
    {
     "name": "stderr",
     "output_type": "stream",
     "text": [
      "2017-04-28 12:37:02,774 CRITICAL [imdbpy] /home/yoh/anaconda2/envs/ds_project/lib/python2.7/site-packages/imdb/_exceptions.py:35: IMDbParserError exception raised; args: (u'invalid movieID \"\": invalid literal for int() with base 10: \\'\\'',); kwds: {}\n",
      "Traceback (most recent call last):\n",
      "  File \"/home/yoh/anaconda2/envs/ds_project/lib/python2.7/site-packages/imdb/parser/http/__init__.py\", line 344, in _normalize_movieID\n",
      "    return '%07d' % int(movieID)\n",
      "ValueError: invalid literal for int() with base 10: ''\n"
     ]
    },
    {
     "name": "stdout",
     "output_type": "stream",
     "text": [
      "50/50\n",
      "189\n",
      "190\n",
      "191\n",
      "192\n",
      "193\n",
      "194\n",
      "195\n",
      "196\n",
      "197\n",
      "198\n",
      "199\n",
      "200\n",
      "201\n",
      "202\n",
      "203\n",
      "204\n",
      "205\n",
      "206\n",
      "207\n",
      "208\n",
      "209\n",
      "210\n",
      "211\n",
      "212\n",
      "213\n",
      "214\n",
      "215\n",
      "216\n",
      "217\n",
      "218\n",
      "219\n",
      "220\n",
      "221\n",
      "222\n",
      "223\n",
      "224\n",
      "225\n",
      "226\n",
      "227\n",
      "228\n",
      "229\n",
      "The Campaign\n",
      "230\n",
      "231\n",
      "232\n",
      "233\n",
      "234\n",
      "235\n",
      "236\n",
      "237\n",
      "238\n",
      "Contraband\n",
      "239\n",
      "240\n",
      "241\n",
      "242\n",
      "243\n",
      "244\n",
      "245\n",
      "246\n",
      "247\n",
      "248\n",
      "249\n",
      "250\n",
      "251\n",
      "252\n",
      "253\n",
      "254\n",
      "255\n",
      "256\n",
      "257\n",
      "258\n",
      "259\n",
      "260\n",
      "261\n",
      "262\n",
      "263\n",
      "264\n",
      "265\n",
      "266\n",
      "267\n"
     ]
    },
    {
     "name": "stderr",
     "output_type": "stream",
     "text": [
      "2017-04-28 12:47:00,907 CRITICAL [imdbpy] /home/yoh/anaconda2/envs/ds_project/lib/python2.7/site-packages/imdb/_exceptions.py:35: IMDbParserError exception raised; args: (u'invalid movieID \"\": invalid literal for int() with base 10: \\'\\'',); kwds: {}\n",
      "Traceback (most recent call last):\n",
      "  File \"/home/yoh/anaconda2/envs/ds_project/lib/python2.7/site-packages/imdb/parser/http/__init__.py\", line 344, in _normalize_movieID\n",
      "    return '%07d' % int(movieID)\n",
      "ValueError: invalid literal for int() with base 10: ''\n"
     ]
    },
    {
     "name": "stdout",
     "output_type": "stream",
     "text": [
      "The Three Stooges\n",
      "268\n",
      "269\n"
     ]
    },
    {
     "name": "stderr",
     "output_type": "stream",
     "text": [
      "2017-04-28 12:47:06,243 CRITICAL [imdbpy] /home/yoh/anaconda2/envs/ds_project/lib/python2.7/site-packages/imdb/_exceptions.py:35: IMDbParserError exception raised; args: (u'invalid movieID \"\": invalid literal for int() with base 10: \\'\\'',); kwds: {}\n",
      "Traceback (most recent call last):\n",
      "  File \"/home/yoh/anaconda2/envs/ds_project/lib/python2.7/site-packages/imdb/parser/http/__init__.py\", line 344, in _normalize_movieID\n",
      "    return '%07d' % int(movieID)\n",
      "ValueError: invalid literal for int() with base 10: ''\n"
     ]
    },
    {
     "name": "stdout",
     "output_type": "stream",
     "text": [
      "The Cabin in the Woods\n",
      "270\n",
      "271\n",
      "272\n",
      "273\n",
      "274\n",
      "275\n",
      "276\n",
      "277\n",
      "278\n",
      "279\n",
      "280\n",
      "281\n",
      "282\n",
      "283\n",
      "284\n",
      "285\n",
      "286\n",
      "287\n",
      "288\n",
      "289\n",
      "290\n",
      "291\n",
      "292\n",
      "293\n",
      "294\n",
      "295\n",
      "296\n",
      "297\n",
      "298\n",
      "299\n",
      "300\n",
      "301\n",
      "302\n",
      "303\n",
      "304\n",
      "305\n",
      "306\n",
      "307\n",
      "308\n",
      "309\n",
      "310\n",
      "311\n",
      "312\n",
      "313\n",
      "314\n",
      "315\n",
      "316\n",
      "317\n",
      "318\n",
      "319\n",
      "320\n",
      "321\n"
     ]
    },
    {
     "name": "stderr",
     "output_type": "stream",
     "text": [
      "2017-04-28 12:52:50,354 CRITICAL [imdbpy] /home/yoh/anaconda2/envs/ds_project/lib/python2.7/site-packages/imdb/_exceptions.py:35: IMDbParserError exception raised; args: (u'invalid movieID \"\": invalid literal for int() with base 10: \\'\\'',); kwds: {}\n",
      "Traceback (most recent call last):\n",
      "  File \"/home/yoh/anaconda2/envs/ds_project/lib/python2.7/site-packages/imdb/parser/http/__init__.py\", line 344, in _normalize_movieID\n",
      "    return '%07d' % int(movieID)\n",
      "ValueError: invalid literal for int() with base 10: ''\n"
     ]
    },
    {
     "name": "stdout",
     "output_type": "stream",
     "text": [
      "Pacific Rim\n",
      "322\n"
     ]
    },
    {
     "name": "stderr",
     "output_type": "stream",
     "text": [
      "2017-04-28 12:52:51,385 CRITICAL [imdbpy] /home/yoh/anaconda2/envs/ds_project/lib/python2.7/site-packages/imdb/_exceptions.py:35: IMDbParserError exception raised; args: (u'invalid movieID \"\": invalid literal for int() with base 10: \\'\\'',); kwds: {}\n",
      "Traceback (most recent call last):\n",
      "  File \"/home/yoh/anaconda2/envs/ds_project/lib/python2.7/site-packages/imdb/parser/http/__init__.py\", line 344, in _normalize_movieID\n",
      "    return '%07d' % int(movieID)\n",
      "ValueError: invalid literal for int() with base 10: ''\n"
     ]
    },
    {
     "name": "stdout",
     "output_type": "stream",
     "text": [
      "This is the End\n",
      "323\n",
      "324\n",
      "325\n",
      "326\n"
     ]
    },
    {
     "name": "stderr",
     "output_type": "stream",
     "text": [
      "2017-04-28 12:53:11,753 CRITICAL [imdbpy] /home/yoh/anaconda2/envs/ds_project/lib/python2.7/site-packages/imdb/_exceptions.py:35: IMDbParserError exception raised; args: (u'invalid movieID \"\": invalid literal for int() with base 10: \\'\\'',); kwds: {}\n",
      "Traceback (most recent call last):\n",
      "  File \"/home/yoh/anaconda2/envs/ds_project/lib/python2.7/site-packages/imdb/parser/http/__init__.py\", line 344, in _normalize_movieID\n",
      "    return '%07d' % int(movieID)\n",
      "ValueError: invalid literal for int() with base 10: ''\n"
     ]
    },
    {
     "name": "stdout",
     "output_type": "stream",
     "text": [
      "Planes\n",
      "327\n",
      "328\n"
     ]
    },
    {
     "name": "stderr",
     "output_type": "stream",
     "text": [
      "2017-04-28 12:53:26,546 CRITICAL [imdbpy] /home/yoh/anaconda2/envs/ds_project/lib/python2.7/site-packages/imdb/_exceptions.py:35: IMDbParserError exception raised; args: (u'invalid movieID \"\": invalid literal for int() with base 10: \\'\\'',); kwds: {}\n",
      "Traceback (most recent call last):\n",
      "  File \"/home/yoh/anaconda2/envs/ds_project/lib/python2.7/site-packages/imdb/parser/http/__init__.py\", line 344, in _normalize_movieID\n",
      "    return '%07d' % int(movieID)\n",
      "ValueError: invalid literal for int() with base 10: ''\n"
     ]
    },
    {
     "name": "stdout",
     "output_type": "stream",
     "text": [
      "Oblivion\n",
      "329\n",
      "330\n",
      "331\n",
      "332\n",
      "333\n",
      "334\n",
      "335\n",
      "336\n",
      "337\n",
      "338\n",
      "339\n",
      "340\n",
      "341\n",
      "342\n",
      "343\n",
      "344\n",
      "345\n",
      "346\n",
      "347\n",
      "348\n",
      "349\n",
      "350\n",
      "351\n",
      "352\n",
      "353\n",
      "354\n",
      "355\n",
      "356\n",
      "357\n",
      "358\n",
      "359\n",
      "360\n",
      "361\n",
      "362\n",
      "363\n",
      "364\n",
      "365\n",
      "366\n"
     ]
    },
    {
     "name": "stderr",
     "output_type": "stream",
     "text": [
      "2017-04-28 12:56:24,104 CRITICAL [imdbpy] /home/yoh/anaconda2/envs/ds_project/lib/python2.7/site-packages/imdb/_exceptions.py:35: IMDbParserError exception raised; args: (u'invalid movieID \"\": invalid literal for int() with base 10: \\'\\'',); kwds: {}\n",
      "Traceback (most recent call last):\n",
      "  File \"/home/yoh/anaconda2/envs/ds_project/lib/python2.7/site-packages/imdb/parser/http/__init__.py\", line 344, in _normalize_movieID\n",
      "    return '%07d' % int(movieID)\n",
      "ValueError: invalid literal for int() with base 10: ''\n"
     ]
    },
    {
     "name": "stdout",
     "output_type": "stream",
     "text": [
      "The Family\n",
      "367\n",
      "368\n",
      "369\n",
      "370\n",
      "371\n",
      "372\n",
      "373\n",
      "374\n",
      "375\n",
      "376\n",
      "377\n",
      "378\n",
      "379\n",
      "380\n",
      "381\n",
      "382\n",
      "383\n"
     ]
    },
    {
     "name": "stderr",
     "output_type": "stream",
     "text": [
      "2017-04-28 12:57:42,696 CRITICAL [imdbpy] /home/yoh/anaconda2/envs/ds_project/lib/python2.7/site-packages/imdb/_exceptions.py:35: IMDbParserError exception raised; args: (u'invalid movieID \"\": invalid literal for int() with base 10: \\'\\'',); kwds: {}\n",
      "Traceback (most recent call last):\n",
      "  File \"/home/yoh/anaconda2/envs/ds_project/lib/python2.7/site-packages/imdb/parser/http/__init__.py\", line 344, in _normalize_movieID\n",
      "    return '%07d' % int(movieID)\n",
      "ValueError: invalid literal for int() with base 10: ''\n"
     ]
    },
    {
     "name": "stdout",
     "output_type": "stream",
     "text": [
      "The World's End\n",
      "384\n",
      "385\n",
      "386\n",
      "387\n",
      "388\n",
      "389\n",
      "390\n",
      "391\n",
      "392\n",
      "393\n",
      "394\n",
      "395\n",
      "396\n",
      "397\n",
      "398\n",
      "399\n",
      "400\n",
      "401\n",
      "402\n",
      "403\n",
      "404\n",
      "405\n",
      "406\n",
      "407\n",
      "408\n",
      "409\n",
      "Lucy\n",
      "410\n",
      "411\n",
      "412\n",
      "413\n",
      "414\n",
      "415\n",
      "416\n",
      "417\n"
     ]
    },
    {
     "name": "stderr",
     "output_type": "stream",
     "text": [
      "2017-04-28 13:01:54,165 CRITICAL [imdbpy] /home/yoh/anaconda2/envs/ds_project/lib/python2.7/site-packages/imdb/_exceptions.py:35: IMDbParserError exception raised; args: (u'invalid movieID \"\": invalid literal for int() with base 10: \\'\\'',); kwds: {}\n",
      "Traceback (most recent call last):\n",
      "  File \"/home/yoh/anaconda2/envs/ds_project/lib/python2.7/site-packages/imdb/parser/http/__init__.py\", line 344, in _normalize_movieID\n",
      "    return '%07d' % int(movieID)\n",
      "ValueError: invalid literal for int() with base 10: ''\n"
     ]
    },
    {
     "name": "stdout",
     "output_type": "stream",
     "text": [
      "Noah\n",
      "418\n",
      "419\n",
      "Non-Stop\n",
      "420\n",
      "421\n",
      "422\n",
      "423\n",
      "424\n",
      "425\n",
      "426\n",
      "427\n",
      "428\n"
     ]
    },
    {
     "name": "stderr",
     "output_type": "stream",
     "text": [
      "2017-04-28 13:02:55,985 CRITICAL [imdbpy] /home/yoh/anaconda2/envs/ds_project/lib/python2.7/site-packages/imdb/_exceptions.py:35: IMDbParserError exception raised; args: (u'invalid movieID \"\": invalid literal for int() with base 10: \\'\\'',); kwds: {}\n",
      "Traceback (most recent call last):\n",
      "  File \"/home/yoh/anaconda2/envs/ds_project/lib/python2.7/site-packages/imdb/parser/http/__init__.py\", line 344, in _normalize_movieID\n",
      "    return '%07d' % int(movieID)\n",
      "ValueError: invalid literal for int() with base 10: ''\n"
     ]
    },
    {
     "name": "stdout",
     "output_type": "stream",
     "text": [
      "Penguins of Madagascar\n",
      "429\n",
      "430\n"
     ]
    },
    {
     "name": "stderr",
     "output_type": "stream",
     "text": [
      "2017-04-28 13:03:16,872 CRITICAL [imdbpy] /home/yoh/anaconda2/envs/ds_project/lib/python2.7/site-packages/imdb/_exceptions.py:35: IMDbParserError exception raised; args: (u'invalid movieID \"\": invalid literal for int() with base 10: \\'\\'',); kwds: {}\n",
      "Traceback (most recent call last):\n",
      "  File \"/home/yoh/anaconda2/envs/ds_project/lib/python2.7/site-packages/imdb/parser/http/__init__.py\", line 344, in _normalize_movieID\n",
      "    return '%07d' % int(movieID)\n",
      "ValueError: invalid literal for int() with base 10: ''\n"
     ]
    },
    {
     "name": "stdout",
     "output_type": "stream",
     "text": [
      "The Monuments Men\n",
      "431\n",
      "432\n",
      "433\n",
      "434\n",
      "435\n",
      "436\n",
      "437\n",
      "438\n",
      "439\n",
      "440\n"
     ]
    },
    {
     "name": "stderr",
     "output_type": "stream",
     "text": [
      "2017-04-28 13:04:18,240 CRITICAL [imdbpy] /home/yoh/anaconda2/envs/ds_project/lib/python2.7/site-packages/imdb/_exceptions.py:35: IMDbParserError exception raised; args: (u'invalid movieID \"\": invalid literal for int() with base 10: \\'\\'',); kwds: {}\n",
      "Traceback (most recent call last):\n",
      "  File \"/home/yoh/anaconda2/envs/ds_project/lib/python2.7/site-packages/imdb/parser/http/__init__.py\", line 344, in _normalize_movieID\n",
      "    return '%07d' % int(movieID)\n",
      "ValueError: invalid literal for int() with base 10: ''\n"
     ]
    },
    {
     "name": "stdout",
     "output_type": "stream",
     "text": [
      "Planes: Fire & Rescue\n",
      "441\n",
      "442\n",
      "443\n",
      "444\n",
      "445\n",
      "446\n",
      "447\n",
      "448\n",
      "449\n",
      "450\n",
      "451\n",
      "452\n",
      "453\n",
      "454\n",
      "455\n",
      "456\n",
      "457\n",
      "458\n",
      "459\n",
      "460\n",
      "461\n",
      "462\n",
      "463\n",
      "464\n",
      "465\n"
     ]
    },
    {
     "name": "stderr",
     "output_type": "stream",
     "text": [
      "2017-04-28 13:06:54,773 CRITICAL [imdbpy] /home/yoh/anaconda2/envs/ds_project/lib/python2.7/site-packages/imdb/_exceptions.py:35: IMDbParserError exception raised; args: (u'invalid movieID \"\": invalid literal for int() with base 10: \\'\\'',); kwds: {}\n",
      "Traceback (most recent call last):\n",
      "  File \"/home/yoh/anaconda2/envs/ds_project/lib/python2.7/site-packages/imdb/parser/http/__init__.py\", line 344, in _normalize_movieID\n",
      "    return '%07d' % int(movieID)\n",
      "ValueError: invalid literal for int() with base 10: ''\n"
     ]
    },
    {
     "name": "stdout",
     "output_type": "stream",
     "text": [
      "The Expendables 3\n",
      "466\n",
      "467\n",
      "468\n",
      "469\n",
      "470\n",
      "471\n",
      "472\n",
      "473\n",
      "474\n",
      "475\n",
      "476\n",
      "477\n",
      "478\n",
      "479\n",
      "480\n",
      "481\n",
      "482\n",
      "483\n",
      "484\n",
      "485\n",
      "Star Wars: The Force Awakens\n",
      "486\n",
      "487\n",
      "488\n",
      "489\n",
      "490\n"
     ]
    },
    {
     "name": "stderr",
     "output_type": "stream",
     "text": [
      "2017-04-28 13:09:51,662 CRITICAL [imdbpy] /home/yoh/anaconda2/envs/ds_project/lib/python2.7/site-packages/imdb/_exceptions.py:35: IMDbParserError exception raised; args: (u'invalid movieID \"\": invalid literal for int() with base 10: \\'\\'',); kwds: {}\n",
      "Traceback (most recent call last):\n",
      "  File \"/home/yoh/anaconda2/envs/ds_project/lib/python2.7/site-packages/imdb/parser/http/__init__.py\", line 344, in _normalize_movieID\n",
      "    return '%07d' % int(movieID)\n",
      "ValueError: invalid literal for int() with base 10: ''\n"
     ]
    },
    {
     "name": "stdout",
     "output_type": "stream",
     "text": [
      "Minions\n",
      "491\n",
      "492\n",
      "493\n",
      "494\n",
      "495\n",
      "496\n",
      "497\n",
      "498\n"
     ]
    },
    {
     "name": "stderr",
     "output_type": "stream",
     "text": [
      "2017-04-28 13:10:47,506 CRITICAL [imdbpy] /home/yoh/anaconda2/envs/ds_project/lib/python2.7/site-packages/imdb/_exceptions.py:35: IMDbParserError exception raised; args: (u'invalid movieID \"\": invalid literal for int() with base 10: \\'\\'',); kwds: {}\n",
      "Traceback (most recent call last):\n",
      "  File \"/home/yoh/anaconda2/envs/ds_project/lib/python2.7/site-packages/imdb/parser/http/__init__.py\", line 344, in _normalize_movieID\n",
      "    return '%07d' % int(movieID)\n",
      "ValueError: invalid literal for int() with base 10: ''\n"
     ]
    },
    {
     "name": "stdout",
     "output_type": "stream",
     "text": [
      "Ant-Man\n",
      "499\n"
     ]
    },
    {
     "name": "stderr",
     "output_type": "stream",
     "text": [
      "2017-04-28 13:10:48,620 CRITICAL [imdbpy] /home/yoh/anaconda2/envs/ds_project/lib/python2.7/site-packages/imdb/_exceptions.py:35: IMDbParserError exception raised; args: (u'invalid movieID \"\": invalid literal for int() with base 10: \\'\\'',); kwds: {}\n",
      "Traceback (most recent call last):\n",
      "  File \"/home/yoh/anaconda2/envs/ds_project/lib/python2.7/site-packages/imdb/parser/http/__init__.py\", line 344, in _normalize_movieID\n",
      "    return '%07d' % int(movieID)\n",
      "ValueError: invalid literal for int() with base 10: ''\n"
     ]
    },
    {
     "name": "stdout",
     "output_type": "stream",
     "text": [
      "Home\n",
      "500\n",
      "501\n",
      "502\n",
      "503\n",
      "504\n",
      "505\n",
      "506\n",
      "507\n",
      "508\n",
      "509\n",
      "510\n",
      "511\n",
      "512\n",
      "513\n",
      "514\n"
     ]
    },
    {
     "name": "stderr",
     "output_type": "stream",
     "text": [
      "2017-04-28 13:12:26,577 CRITICAL [imdbpy] /home/yoh/anaconda2/envs/ds_project/lib/python2.7/site-packages/imdb/_exceptions.py:35: IMDbParserError exception raised; args: (u'invalid movieID \"\": invalid literal for int() with base 10: \\'\\'',); kwds: {}\n",
      "Traceback (most recent call last):\n",
      "  File \"/home/yoh/anaconda2/envs/ds_project/lib/python2.7/site-packages/imdb/parser/http/__init__.py\", line 344, in _normalize_movieID\n",
      "    return '%07d' % int(movieID)\n",
      "ValueError: invalid literal for int() with base 10: ''\n"
     ]
    },
    {
     "name": "stdout",
     "output_type": "stream",
     "text": [
      "Tomorrowland\n",
      "515\n",
      "516\n",
      "517\n",
      "518\n",
      "519\n",
      "520\n",
      "521\n",
      "522\n",
      "523\n",
      "524\n",
      "525\n",
      "526\n",
      "527\n",
      "528\n",
      "529\n",
      "530\n",
      "531\n",
      "532\n"
     ]
    },
    {
     "name": "stderr",
     "output_type": "stream",
     "text": [
      "2017-04-28 13:14:25,258 CRITICAL [imdbpy] /home/yoh/anaconda2/envs/ds_project/lib/python2.7/site-packages/imdb/_exceptions.py:35: IMDbParserError exception raised; args: (u'invalid movieID \"\": invalid literal for int() with base 10: \\'\\'',); kwds: {}\n",
      "Traceback (most recent call last):\n",
      "  File \"/home/yoh/anaconda2/envs/ds_project/lib/python2.7/site-packages/imdb/parser/http/__init__.py\", line 344, in _normalize_movieID\n",
      "    return '%07d' % int(movieID)\n",
      "ValueError: invalid literal for int() with base 10: ''\n"
     ]
    },
    {
     "name": "stdout",
     "output_type": "stream",
     "text": [
      "Black Mass\n",
      "533\n",
      "534\n",
      "535\n",
      "536\n",
      "537\n",
      "538\n",
      "539\n",
      "540\n",
      "541\n",
      "542\n",
      "543\n",
      "544\n",
      "545\n",
      "546\n",
      "547\n",
      "548\n",
      "Everest\n",
      "549\n",
      "550\n",
      "Krampus\n",
      "551\n",
      "552\n",
      "553\n"
     ]
    },
    {
     "name": "stderr",
     "output_type": "stream",
     "text": [
      "2017-04-28 13:16:39,190 CRITICAL [imdbpy] /home/yoh/anaconda2/envs/ds_project/lib/python2.7/site-packages/imdb/_exceptions.py:35: IMDbParserError exception raised; args: (u'invalid movieID \"\": invalid literal for int() with base 10: \\'\\'',); kwds: {}\n",
      "Traceback (most recent call last):\n",
      "  File \"/home/yoh/anaconda2/envs/ds_project/lib/python2.7/site-packages/imdb/parser/http/__init__.py\", line 344, in _normalize_movieID\n",
      "    return '%07d' % int(movieID)\n",
      "ValueError: invalid literal for int() with base 10: ''\n"
     ]
    },
    {
     "name": "stdout",
     "output_type": "stream",
     "text": [
      "Brooklyn\n",
      "554\n",
      "555\n",
      "556\n",
      "557\n",
      "558\n",
      "559\n",
      "560\n",
      "561\n",
      "562\n",
      "563\n",
      "564\n",
      "565\n",
      "566\n",
      "567\n",
      "568\n",
      "569\n",
      "570\n",
      "571\n"
     ]
    },
    {
     "name": "stderr",
     "output_type": "stream",
     "text": [
      "2017-04-28 13:18:24,057 CRITICAL [imdbpy] /home/yoh/anaconda2/envs/ds_project/lib/python2.7/site-packages/imdb/_exceptions.py:35: IMDbParserError exception raised; args: (u'invalid movieID \"\": invalid literal for int() with base 10: \\'\\'',); kwds: {}\n",
      "Traceback (most recent call last):\n",
      "  File \"/home/yoh/anaconda2/envs/ds_project/lib/python2.7/site-packages/imdb/parser/http/__init__.py\", line 344, in _normalize_movieID\n",
      "    return '%07d' % int(movieID)\n",
      "ValueError: invalid literal for int() with base 10: ''\n"
     ]
    },
    {
     "name": "stdout",
     "output_type": "stream",
     "text": [
      "No Escape\n",
      "572\n",
      "573\n",
      "574\n",
      "575\n",
      "576\n",
      "Ex Machina\n",
      "577\n",
      "578\n",
      "579\n",
      "580\n",
      "581\n"
     ]
    }
   ],
   "source": [
    "MovieDict = dict()\n",
    "ErrorMovieList = list()\n",
    "count = 0\n",
    "for movie in mojoDatar:\n",
    "    count += 1\n",
    "    print count\n",
    "    try:\n",
    "        moviet = tmdb.Movies(movie['tmdb_id'])\n",
    "        movieID = moviet.id\n",
    "        response = moviet.info()\n",
    "        moviei = imdb_a.get_movie(moviet.imdb_id[2:])\n",
    "        MovieDict[movieID] = dict()\n",
    "        MovieDict[movieID]['id'] = movieID\n",
    "        MovieDict[movieID]['name'] = moviet.title\n",
    "        MovieDict[movieID]['imdb_id'] = moviet.imdb_id\n",
    "        MovieDict[movieID]['budget'] = moviet.budget\n",
    "        MovieDict[movieID]['gross'] = int(movie['gross'][1:].replace(',',''))\n",
    "        MovieDict[movieID]['opening_gross'] = int(movie['opening'][1:].replace(',',''))\n",
    "        MovieDict[movieID]['runtime'] = moviet.runtime\n",
    "        if 'mpaa' in moviei.keys():\n",
    "            MovieDict[movieID]['mpaa'] = moviei['mpaa']\n",
    "        else:\n",
    "            MovieDict[movieID]['mpaa'] = None\n",
    "            \n",
    "        if 'rating' in moviei.keys():\n",
    "            MovieDict[movieID]['imdb_rating'] = moviei['rating']\n",
    "        else:\n",
    "            MovieDict[movieID]['imdb_rating'] = None\n",
    "            \n",
    "        MovieDict[movieID]['opening_theathers'] = int(movie['opening theaters'].replace(',',''))\n",
    "        MovieDict[movieID]['year'] = movie['year']\n",
    "        \n",
    "        if 'genres' in moviei.keys():\n",
    "            MovieDict[movieID]['genres'] = moviei['genres']\n",
    "        else:\n",
    "            MovieDict[movieID]['genres'] = None\n",
    "            \n",
    "        if 'director' in moviei.keys():\n",
    "            directors = list()\n",
    "            for u in moviei['director']:\n",
    "                directors.append(u.personID)\n",
    "            MovieDict[movieID]['director'] = directors\n",
    "        else:\n",
    "            MovieDict[movieID]['director'] = None\n",
    "            \n",
    "        if 'cast' in moviei.keys():\n",
    "            casts = list()\n",
    "            for u in moviei['cast']:\n",
    "                casts.append(u.personID)\n",
    "            MovieDict[movieID]['cast'] = casts\n",
    "        else:\n",
    "            MovieDict[movieID]['cast'] = None\n",
    "            \n",
    "    except:\n",
    "        ErrorMovieList.append(movie['tmdb_id'])\n",
    "        print movie['title']"
   ]
  },
  {
   "cell_type": "code",
   "execution_count": 14,
   "metadata": {
    "collapsed": true
   },
   "outputs": [],
   "source": [
    "pickle.dump(MovieDict, io.open('MovieData100.pkl', 'wb'))"
   ]
  },
  {
   "cell_type": "code",
   "execution_count": 15,
   "metadata": {
    "collapsed": true
   },
   "outputs": [],
   "source": [
    "MovieTable1 = pd.read_pickle('MovieData100_10_15.pkl')"
   ]
  },
  {
   "cell_type": "code",
   "execution_count": 20,
   "metadata": {
    "collapsed": true
   },
   "outputs": [],
   "source": [
    "MDdf = pd.DataFrame(MovieTable1).transpose()"
   ]
  },
  {
   "cell_type": "code",
   "execution_count": 21,
   "metadata": {},
   "outputs": [
    {
     "data": {
      "text/html": [
       "<div>\n",
       "<table border=\"1\" class=\"dataframe\">\n",
       "  <thead>\n",
       "    <tr style=\"text-align: right;\">\n",
       "      <th></th>\n",
       "      <th>budget</th>\n",
       "      <th>cast</th>\n",
       "      <th>director</th>\n",
       "      <th>genres</th>\n",
       "      <th>gross</th>\n",
       "      <th>id</th>\n",
       "      <th>imdb_id</th>\n",
       "      <th>imdb_rating</th>\n",
       "      <th>mpaa</th>\n",
       "      <th>name</th>\n",
       "      <th>opening_gross</th>\n",
       "      <th>opening_theathers</th>\n",
       "      <th>runtime</th>\n",
       "      <th>year</th>\n",
       "    </tr>\n",
       "  </thead>\n",
       "  <tbody>\n",
       "    <tr>\n",
       "      <th>1865</th>\n",
       "      <td>380000000</td>\n",
       "      <td>[0000136, 0004851, 0001691, 0574534, 0573618, ...</td>\n",
       "      <td>[0551128]</td>\n",
       "      <td>[Action, Adventure, Fantasy]</td>\n",
       "      <td>241071802</td>\n",
       "      <td>1865</td>\n",
       "      <td>tt1298650</td>\n",
       "      <td>6.7</td>\n",
       "      <td>Rated PG-13 for sexual content/nudity, languag...</td>\n",
       "      <td>Pirates of the Caribbean: On Stranger Tides</td>\n",
       "      <td>90151958</td>\n",
       "      <td>4155</td>\n",
       "      <td>136</td>\n",
       "      <td>2011</td>\n",
       "    </tr>\n",
       "    <tr>\n",
       "      <th>1930</th>\n",
       "      <td>215000000</td>\n",
       "      <td>[1940449, 1297015, 0406975, 0001459, 0000640, ...</td>\n",
       "      <td>[1989536]</td>\n",
       "      <td>[Action, Adventure]</td>\n",
       "      <td>262030663</td>\n",
       "      <td>1930</td>\n",
       "      <td>tt0948470</td>\n",
       "      <td>7</td>\n",
       "      <td>Rated PG-13 for sequences of action and violence</td>\n",
       "      <td>The Amazing Spider-Man</td>\n",
       "      <td>62004688</td>\n",
       "      <td>4318</td>\n",
       "      <td>136</td>\n",
       "      <td>2012</td>\n",
       "    </tr>\n",
       "    <tr>\n",
       "      <th>4258</th>\n",
       "      <td>20000000</td>\n",
       "      <td>[0864308, 0005350, 3856188, 4795991, 5777210, ...</td>\n",
       "      <td>[0002700, 0001878]</td>\n",
       "      <td>[Comedy]</td>\n",
       "      <td>32015787</td>\n",
       "      <td>4258</td>\n",
       "      <td>tt0795461</td>\n",
       "      <td>3.5</td>\n",
       "      <td>Rated PG-13 for crude and sexual content throu...</td>\n",
       "      <td>Scary Movie 5</td>\n",
       "      <td>14157367</td>\n",
       "      <td>3402</td>\n",
       "      <td>86</td>\n",
       "      <td>2013</td>\n",
       "    </tr>\n",
       "    <tr>\n",
       "      <th>7978</th>\n",
       "      <td>150000000</td>\n",
       "      <td>[0581163, 2247629, 1289434, 0001125, 3785649, ...</td>\n",
       "      <td>[0002653]</td>\n",
       "      <td>[Drama, Fantasy, Horror, Thriller]</td>\n",
       "      <td>61979680</td>\n",
       "      <td>7978</td>\n",
       "      <td>tt0780653</td>\n",
       "      <td>5.8</td>\n",
       "      <td>Rated R for bloody horror violence and gore</td>\n",
       "      <td>The Wolfman</td>\n",
       "      <td>31479235</td>\n",
       "      <td>3222</td>\n",
       "      <td>102</td>\n",
       "      <td>2010</td>\n",
       "    </tr>\n",
       "    <tr>\n",
       "      <th>9543</th>\n",
       "      <td>150000000</td>\n",
       "      <td>[0350453, 2605345, 0001426, 0000547, 0869750, ...</td>\n",
       "      <td>[0001565]</td>\n",
       "      <td>[Action, Adventure, Fantasy, Romance]</td>\n",
       "      <td>90759676</td>\n",
       "      <td>9543</td>\n",
       "      <td>tt0473075</td>\n",
       "      <td>6.6</td>\n",
       "      <td>Rated PG-13 for intense sequences of violence ...</td>\n",
       "      <td>Prince of Persia: The Sands of Time</td>\n",
       "      <td>30095259</td>\n",
       "      <td>3646</td>\n",
       "      <td>116</td>\n",
       "      <td>2010</td>\n",
       "    </tr>\n",
       "  </tbody>\n",
       "</table>\n",
       "</div>"
      ],
      "text/plain": [
       "         budget                                               cast  \\\n",
       "1865  380000000  [0000136, 0004851, 0001691, 0574534, 0573618, ...   \n",
       "1930  215000000  [1940449, 1297015, 0406975, 0001459, 0000640, ...   \n",
       "4258   20000000  [0864308, 0005350, 3856188, 4795991, 5777210, ...   \n",
       "7978  150000000  [0581163, 2247629, 1289434, 0001125, 3785649, ...   \n",
       "9543  150000000  [0350453, 2605345, 0001426, 0000547, 0869750, ...   \n",
       "\n",
       "                director                                 genres      gross  \\\n",
       "1865           [0551128]           [Action, Adventure, Fantasy]  241071802   \n",
       "1930           [1989536]                    [Action, Adventure]  262030663   \n",
       "4258  [0002700, 0001878]                               [Comedy]   32015787   \n",
       "7978           [0002653]     [Drama, Fantasy, Horror, Thriller]   61979680   \n",
       "9543           [0001565]  [Action, Adventure, Fantasy, Romance]   90759676   \n",
       "\n",
       "        id    imdb_id imdb_rating  \\\n",
       "1865  1865  tt1298650         6.7   \n",
       "1930  1930  tt0948470           7   \n",
       "4258  4258  tt0795461         3.5   \n",
       "7978  7978  tt0780653         5.8   \n",
       "9543  9543  tt0473075         6.6   \n",
       "\n",
       "                                                   mpaa  \\\n",
       "1865  Rated PG-13 for sexual content/nudity, languag...   \n",
       "1930   Rated PG-13 for sequences of action and violence   \n",
       "4258  Rated PG-13 for crude and sexual content throu...   \n",
       "7978        Rated R for bloody horror violence and gore   \n",
       "9543  Rated PG-13 for intense sequences of violence ...   \n",
       "\n",
       "                                             name opening_gross  \\\n",
       "1865  Pirates of the Caribbean: On Stranger Tides      90151958   \n",
       "1930                       The Amazing Spider-Man      62004688   \n",
       "4258                                Scary Movie 5      14157367   \n",
       "7978                                  The Wolfman      31479235   \n",
       "9543          Prince of Persia: The Sands of Time      30095259   \n",
       "\n",
       "     opening_theathers runtime  year  \n",
       "1865              4155     136  2011  \n",
       "1930              4318     136  2012  \n",
       "4258              3402      86  2013  \n",
       "7978              3222     102  2010  \n",
       "9543              3646     116  2010  "
      ]
     },
     "execution_count": 21,
     "metadata": {},
     "output_type": "execute_result"
    }
   ],
   "source": [
    "MDdf.head()"
   ]
  },
  {
   "cell_type": "code",
   "execution_count": 45,
   "metadata": {},
   "outputs": [
    {
     "data": {
      "text/plain": [
       "<seaborn.axisgrid.JointGrid at 0x7fc65ca18350>"
      ]
     },
     "execution_count": 45,
     "metadata": {},
     "output_type": "execute_result"
    },
    {
     "data": {
      "image/png": "[encoded data removed]",
      "text/plain": [
       "<matplotlib.figure.Figure at 0x7fc65ca18910>"
      ]
     },
     "metadata": {},
     "output_type": "display_data"
    }
   ],
   "source": [
    "MD_rate_gross = MDdf[['gross', 'imdb_rating']]\n",
    "MD_rate_gross = MD_rate_gross[MD_rate_gross.imdb_rating.notnull()]\n",
    "grid = sns.JointGrid(MD_rate_gross.imdb_rating, MD_rate_gross.gross, space=0, size=6, ratio=50)\n",
    "grid.plot_joint(plt.scatter)"
   ]
  },
  {
   "cell_type": "code",
   "execution_count": 44,
   "metadata": {},
   "outputs": [
    {
     "data": {
      "text/plain": [
       "<seaborn.axisgrid.JointGrid at 0x7fc65dd78d10>"
      ]
     },
     "execution_count": 44,
     "metadata": {},
     "output_type": "execute_result"
    },
    {
     "data": {
      "image/png": "[encoded data removed]",
      "text/plain": [
       "<matplotlib.figure.Figure at 0x7fc65cf91c10>"
      ]
     },
     "metadata": {},
     "output_type": "display_data"
    }
   ],
   "source": [
    "MD_opening_gross = MDdf[['gross', 'opening_gross']]\n",
    "grid = sns.JointGrid(MD_opening_gross.opening_gross, MD_opening_gross.gross, space=0, size=6, ratio=50)\n",
    "grid.plot_joint(plt.scatter)"
   ]
  },
  {
   "cell_type": "code",
   "execution_count": 47,
   "metadata": {},
   "outputs": [
    {
     "data": {
      "text/plain": [
       "<seaborn.axisgrid.JointGrid at 0x7fc65cc12cd0>"
      ]
     },
     "execution_count": 47,
     "metadata": {},
     "output_type": "execute_result"
    },
    {
     "data": {
      "image/png": "[encoded data removed]",
      "text/plain": [
       "<matplotlib.figure.Figure at 0x7fc65d147d10>"
      ]
     },
     "metadata": {},
     "output_type": "display_data"
    }
   ],
   "source": [
    "MD_theather_gross = MDdf[['opening_theathers', 'gross']]\n",
    "grid = sns.JointGrid(MD_theather_gross.opening_theathers, MD_theather_gross.gross, space=0, size=6, ratio=50)\n",
    "grid.plot_joint(plt.scatter)"
   ]
  },
  {
   "cell_type": "code",
   "execution_count": 142,
   "metadata": {},
   "outputs": [
    {
     "data": {
      "text/plain": [
       "<matplotlib.axes._subplots.AxesSubplot at 0x7fc65a0fee90>"
      ]
     },
     "execution_count": 142,
     "metadata": {},
     "output_type": "execute_result"
    },
    {
     "data": {
      "image/png": "[encoded data removed]",
      "text/plain": [
       "<matplotlib.figure.Figure at 0x7fc65a773490>"
      ]
     },
     "metadata": {},
     "output_type": "display_data"
    }
   ],
   "source": [
    "MD_year_gross = MDdf[['year', 'gross']]\n",
    "dd = dict()\n",
    "for y in MD_year_gross.year.unique():\n",
    "    dd[y] = MD_year_gross[MD_year_gross.year == y].gross\n",
    "dd = pd.DataFrame(dd)\n",
    "plt.figure(figsize=(12, 7))\n",
    "sns.boxplot(dd,orient=\"h\")"
   ]
  },
  {
   "cell_type": "code",
   "execution_count": 119,
   "metadata": {
    "collapsed": true
   },
   "outputs": [],
   "source": [
    "MD_genre_gross = MDdf[['genres', 'gross']]"
   ]
  },
  {
   "cell_type": "code",
   "execution_count": 105,
   "metadata": {},
   "outputs": [],
   "source": [
    "genres_list = list()\n",
    "for gl in MD_genre_gross.genres.get_values():\n",
    "    if gl == None:\n",
    "        continue\n",
    "    for g in gl:\n",
    "        if g not in genres_list:\n",
    "            genres_list.append(g)"
   ]
  },
  {
   "cell_type": "code",
   "execution_count": 139,
   "metadata": {},
   "outputs": [
    {
     "data": {
      "text/plain": [
       "<matplotlib.axes._subplots.AxesSubplot at 0x7fc65b068590>"
      ]
     },
     "execution_count": 139,
     "metadata": {},
     "output_type": "execute_result"
    },
    {
     "data": {
      "image/png": "[encoded data removed]",
      "text/plain": [
       "<matplotlib.figure.Figure at 0x7fc65a7d5e10>"
      ]
     },
     "metadata": {},
     "output_type": "display_data"
    }
   ],
   "source": [
    "dd = dict()\n",
    "for g in genres_list:\n",
    "    tl = list()\n",
    "    for gg in MD_genre_gross.genres:\n",
    "        if gg == None:\n",
    "            tl.append(False)\n",
    "        else:\n",
    "            tl.append(g in gg)\n",
    "    dd[g] = MD_genre_gross[tl].gross\n",
    "dd = pd.DataFrame(dd)\n",
    "plt.figure(figsize=(15, 10))\n",
    "sns.boxplot(dd,orient=\"h\")"
   ]
  },
  {
   "cell_type": "code",
   "execution_count": 138,
   "metadata": {},
   "outputs": [
    {
     "data": {
      "text/plain": [
       "<matplotlib.figure.Figure at 0x7fc65ac13dd0>"
      ]
     },
     "execution_count": 138,
     "metadata": {},
     "output_type": "execute_result"
    },
    {
     "data": {
      "text/plain": [
       "<matplotlib.figure.Figure at 0x7fc65ac13dd0>"
      ]
     },
     "metadata": {},
     "output_type": "display_data"
    }
   ],
   "source": [
    "plt.figure(figsize=(15, 10))"
   ]
  },
  {
   "cell_type": "code",
   "execution_count": 137,
   "metadata": {
    "collapsed": true
   },
   "outputs": [],
   "source": [
    "plt.show()"
   ]
  },
  {
   "cell_type": "code",
   "execution_count": null,
   "metadata": {
    "collapsed": true
   },
   "outputs": [],
   "source": []
  }
 ],
 "metadata": {
  "kernelspec": {
   "display_name": "Python 2",
   "language": "python",
   "name": "python2"
  },
  "language_info": {
   "codemirror_mode": {
    "name": "ipython",
    "version": 2
   },
   "file_extension": ".py",
   "mimetype": "text/x-python",
   "name": "python",
   "nbconvert_exporter": "python",
   "pygments_lexer": "ipython2",
   "version": "2.7.13"
  },
  "widgets": {
   "state": {},
   "version": "1.1.2"
  }
 },
 "nbformat": 4,
 "nbformat_minor": 2
}
